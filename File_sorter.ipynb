{
 "cells": [
  {
   "cell_type": "markdown",
   "id": "1f1cea15-17fc-4d28-816e-4b351446c88d",
   "metadata": {},
   "source": [
    "<h2>Automatic File Sorter in File Explorer</h2>"
   ]
  },
  {
   "cell_type": "code",
   "execution_count": 88,
   "id": "fc454ed3-c8b9-44da-bbca-e395564fa93d",
   "metadata": {},
   "outputs": [
    {
     "data": {
      "text/plain": [
       "['csv files', 'doc files', 'image files', 'pdf files']"
      ]
     },
     "execution_count": 88,
     "metadata": {},
     "output_type": "execute_result"
    }
   ],
   "source": [
    "import os, shutil\n",
    "\n",
    "path = r\"C:\\Users\\Bossy\\Desktop\\Data Analyst\\files\\\\\"\n",
    "\n",
    "folders = ['csv files', 'doc files', 'image files', 'pdf files']\n",
    "\n",
    "# Create folders if they don't exist\n",
    "for folder in folders:\n",
    "    folder_path = os.path.join(path, folder)\n",
    "    if not os.path.exists(folder_path):\n",
    "        os.makedirs(folder_path)\n",
    "\n",
    "\n",
    "# Assuming file_name is a list of filenames in the directory\n",
    "filename = os.listdir(path)\n",
    "\n",
    "# Move files into corresponding folders\n",
    "for file in filename:\n",
    "    source = os.path.join(path, file)\n",
    "\n",
    "    if file.endswith('.csv'):\n",
    "        dest = os.path.join(path, 'csv files', file)\n",
    "        if not os.path.exist(dest):\n",
    "            shutil.move(source, dest)\n",
    "\n",
    "    elif file.endswith('.docx'):\n",
    "        dest = os.path.join(path, 'doc files', file)\n",
    "        if not os.path.exists(dest):\n",
    "            shutil.move(source, dest)\n",
    "\n",
    "    elif file.endswith('.png'):\n",
    "        dest = os.path.join(path, 'image files', file)\n",
    "        if not os.path.exists(dest):\n",
    "            shutil.move(source, dest)\n",
    "            \n",
    "    elif file.endswith('.pdf'):\n",
    "        dest = os.path.join(path, 'pdf files', file)\n",
    "        if not os.path.exists(dest):\n",
    "            shutil.move(source, dest)\n",
    "\n",
    "    elif file.endswith('.jpg'):\n",
    "        dest = os.path.join(path, 'image files', file)\n",
    "        if not os.path.exists(dest):\n",
    "            shutil.move(source, dest)\n",
    "\n",
    "os.listdir(path)"
   ]
  },
  {
   "cell_type": "code",
   "execution_count": null,
   "id": "46f42a8f-5759-424c-bc53-404ede047757",
   "metadata": {},
   "outputs": [],
   "source": []
  },
  {
   "cell_type": "code",
   "execution_count": null,
   "id": "f9b2d806-f2b7-450b-bbc5-e450fa4ba41b",
   "metadata": {},
   "outputs": [],
   "source": []
  },
  {
   "cell_type": "code",
   "execution_count": null,
   "id": "cf1fc5e4-0b4f-4e65-9170-c998ab0029cb",
   "metadata": {},
   "outputs": [],
   "source": []
  }
 ],
 "metadata": {
  "kernelspec": {
   "display_name": "Python 3 (ipykernel)",
   "language": "python",
   "name": "python3"
  },
  "language_info": {
   "codemirror_mode": {
    "name": "ipython",
    "version": 3
   },
   "file_extension": ".py",
   "mimetype": "text/x-python",
   "name": "python",
   "nbconvert_exporter": "python",
   "pygments_lexer": "ipython3",
   "version": "3.12.4"
  }
 },
 "nbformat": 4,
 "nbformat_minor": 5
}
