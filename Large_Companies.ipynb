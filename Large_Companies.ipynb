{
 "cells": [
  {
   "cell_type": "markdown",
   "id": "ce13c451-3858-4801-aa39-bf829d6c73bb",
   "metadata": {},
   "source": [
    "<h2>Scraping Data From A Real Website + Pandas</h2>"
   ]
  },
  {
   "cell_type": "code",
   "execution_count": null,
   "id": "aa08de08-8ac0-4007-a0bf-3361d677da03",
   "metadata": {},
   "outputs": [],
   "source": [
    "from bs4 import BeautifulSoup as BS\n",
    "import requests"
   ]
  },
  {
   "cell_type": "code",
   "execution_count": null,
   "id": "c9f1230a-5d5c-4df3-b9f6-51028ade3a76",
   "metadata": {},
   "outputs": [],
   "source": [
    "url = 'https://en.wikipedia.org/wiki/List_of_largest_companies_in_the_United_States_by_revenue'\n",
    "response = requests.get(url)\n",
    "soup = BS(response.text, 'html')\n",
    "#print(soup.prettify())\n"
   ]
  },
  {
   "cell_type": "code",
   "execution_count": null,
   "id": "a51e3420-f3e3-4d2b-8232-5dbd1bdbecfe",
   "metadata": {},
   "outputs": [],
   "source": [
    "table = soup.find_all('table')[0]\n",
    "print(table)\n"
   ]
  },
  {
   "cell_type": "code",
   "execution_count": null,
   "id": "f845bd87-0636-4498-b189-c6a0e22803ca",
   "metadata": {},
   "outputs": [],
   "source": [
    "world_titles = table.find_all('th')\n",
    "print(world_titles)\n",
    "world_table_titles = [title.text.strip() for title in world_titles]\n",
    "print(world_table_titles)\n"
   ]
  },
  {
   "cell_type": "code",
   "execution_count": 7,
   "id": "2c0c2d3e-9dde-46fc-a63f-fd5730dc98c0",
   "metadata": {},
   "outputs": [],
   "source": [
    "import pandas as pd\n",
    "df = pd.DataFrame(columns = world_table_titles)\n",
    "df"
   ]
  },
  {
   "cell_type": "code",
   "execution_count": null,
   "id": "5282f4a7-2344-49d8-82ae-a1c61a9dafad",
   "metadata": {},
   "outputs": [],
   "source": [
    "column_data = table.find_all('tr')[1:]\n",
    "for row in column_data:\n",
    "    row_data = row.find_all('td')\n",
    "    individual_row_data = [data.text.strip() for data in row_data]\n",
    "    #print(individual_row_data)\n",
    "\n",
    "    length = len(df)\n",
    "    df.loc[length] = individual_row_data\n",
    "df\n",
    "df.to_csv('companies.csv', index=False)"
   ]
  },
  {
   "cell_type": "code",
   "execution_count": null,
   "id": "4fa6bef0-319f-4a8d-8827-caadd5d99c91",
   "metadata": {},
   "outputs": [],
   "source": []
  }
 ],
 "metadata": {
  "kernelspec": {
   "display_name": "Python 3 (ipykernel)",
   "language": "python",
   "name": "python3"
  },
  "language_info": {
   "codemirror_mode": {
    "name": "ipython",
    "version": 3
   },
   "file_extension": ".py",
   "mimetype": "text/x-python",
   "name": "python",
   "nbconvert_exporter": "python",
   "pygments_lexer": "ipython3",
   "version": "3.12.4"
  }
 },
 "nbformat": 4,
 "nbformat_minor": 5
}
