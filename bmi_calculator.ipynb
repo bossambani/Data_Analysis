{
 "cells": [
  {
   "cell_type": "markdown",
   "id": "5a2ca031-6223-42e4-a630-122843152586",
   "metadata": {},
   "source": [
    "<h3 style = \"text-align: left\"> BMI CALCULATOR</h3>"
   ]
  },
  {
   "cell_type": "code",
   "execution_count": null,
   "id": "db48e0ea-5ee1-47d7-ae4f-5defcb9d8228",
   "metadata": {},
   "outputs": [],
   "source": [
    "# BMI = (weight in pounds * 703) / (height in inches * height in inches)"
   ]
  },
  {
   "cell_type": "code",
   "execution_count": 20,
   "id": "c6da7284-e1b3-4748-813d-dc49a93c139f",
   "metadata": {},
   "outputs": [
    {
     "name": "stdin",
     "output_type": "stream",
     "text": [
      "Enter your name:  Bossy\n",
      "Enter your weight in pounds:  69\n",
      "Enter your height in inches:  30\n"
     ]
    },
    {
     "name": "stdout",
     "output_type": "stream",
     "text": [
      "53.89666666666667\n",
      "BossyYou are mobrbidly Obese.\n"
     ]
    }
   ],
   "source": [
    "name = input(\"Enter your name: \")\n",
    "weight = int(input(\"Enter your weight in pounds: \"))\n",
    "height = int(input(\"Enter your height in inches: \"))\n",
    "\n",
    "BMI = (weight * 703) / (height * height)\n",
    "print(BMI)\n",
    "\n",
    "if (BMI > 0):\n",
    "    if (BMI) < 18.5:\n",
    "        print(name + \", You are underweight.\")\n",
    "    if (BMI) < 24.9:\n",
    "        print(name + \", You are Normal Weight.\")\n",
    "    if (BMI) < 29.9:\n",
    "        print(name + \", You are Overweight.\")\n",
    "    if (BMI) < 34.9:\n",
    "        print(name + \", You are Obese.\")\n",
    "    if (BMI) < 39.9:\n",
    "        print(name + \", You are severely Obese.\")\n",
    "    else:\n",
    "        print(name + \", You are mobrbidly Obese.\")\n",
    "else:\n",
    "    print(\"Enter valid Inputs\")\n",
    "    "
   ]
  },
  {
   "cell_type": "code",
   "execution_count": null,
   "id": "1cb12e97-ae76-45cd-a75d-06147e886317",
   "metadata": {},
   "outputs": [],
   "source": []
  },
  {
   "cell_type": "code",
   "execution_count": null,
   "id": "dc383769-da6d-46a8-96db-d072cae05121",
   "metadata": {},
   "outputs": [],
   "source": []
  },
  {
   "cell_type": "code",
   "execution_count": null,
   "id": "30489c42-5c5d-432d-a025-40f72fc5953e",
   "metadata": {},
   "outputs": [],
   "source": []
  },
  {
   "cell_type": "code",
   "execution_count": null,
   "id": "913813e2-8777-4d47-975c-38b89e59b129",
   "metadata": {},
   "outputs": [],
   "source": []
  },
  {
   "cell_type": "code",
   "execution_count": null,
   "id": "df74d222-a3a8-4266-bd6f-3b8570a40060",
   "metadata": {},
   "outputs": [],
   "source": []
  }
 ],
 "metadata": {
  "kernelspec": {
   "display_name": "Python 3 (ipykernel)",
   "language": "python",
   "name": "python3"
  },
  "language_info": {
   "codemirror_mode": {
    "name": "ipython",
    "version": 3
   },
   "file_extension": ".py",
   "mimetype": "text/x-python",
   "name": "python",
   "nbconvert_exporter": "python",
   "pygments_lexer": "ipython3",
   "version": "3.12.4"
  }
 },
 "nbformat": 4,
 "nbformat_minor": 5
}
